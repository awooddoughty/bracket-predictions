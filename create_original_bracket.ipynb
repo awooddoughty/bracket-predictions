{
 "cells": [
  {
   "cell_type": "code",
   "execution_count": 1,
   "metadata": {},
   "outputs": [],
   "source": [
    "import numpy as np\n",
    "import pandas as pd\n",
    "from fuzzywuzzy import process\n",
    "\n",
    "pd.set_option('expand_frame_repr', False)\n",
    "pd.set_option('display.max_columns', 0)  # Display any number of columns\n",
    "pd.set_option('display.max_rows', 68)  # Display any number of rows\n",
    "\n",
    "KENPOM_FILE = 'kenpom.csv'\n",
    "ESPN_FILE = ('https://projects.fivethirtyeight.com/'\n",
    "             'march-madness-api/2019/fivethirtyeight_ncaa_forecasts.csv')\n",
    "EXPORT_FILENAME = 'simple_2019.csv'\n",
    "FIRST_FOUR_LOSERS = [\n",
    "    \"St. John's (NY)\",\n",
    "    'Temple',\n",
    "    'North Carolina Central',\n",
    "    'Prairie View',\n",
    "]\n",
    "\n",
    "# Load kenpom data that was previously scraped\n",
    "kenpom = pd.read_csv(KENPOM_FILE)\n",
    "\n",
    "# Import 538's info\n",
    "espn = pd.read_csv(ESPN_FILE)\n",
    "espn_slice = (espn['gender'] == 'mens') & (espn['forecast_date'] == max(espn['forecast_date']))\n",
    "team_info = espn[espn_slice][['team_id', 'team_name', 'team_region', 'team_seed']]"
   ]
  },
  {
   "cell_type": "code",
   "execution_count": 2,
   "metadata": {},
   "outputs": [
    {
     "name": "stdout",
     "output_type": "stream",
     "text": [
      "Missing Kenpom Teams: ['LSU', 'VCU', 'UCF']\n",
      "Matching ESPN Teams:\n",
      "                 team_name  team_id\n",
      "9         Louisiana State       99\n",
      "16        Central Florida     2116\n",
      "33  Virginia Commonwealth     2670\n"
     ]
    }
   ],
   "source": [
    "# Match Kenpom and ESPN team names\n",
    "kenpom['team_id'] = np.nan\n",
    "kenpom['espn_name'] = np.nan\n",
    "choices = team_info['team_name'].tolist()  # Get all of the ESPN team names\n",
    "for index, row in kenpom.iterrows():\n",
    "    team = row['Team']\n",
    "    match = process.extractOne(team, choices)  # extract the best match for every kenpom name\n",
    "    if match[1] == 100:  # it's a perfect match\n",
    "        espn_team_id = team_info[team_info['team_name'] == match[0]]['team_id'].values[0]\n",
    "        kenpom.loc[index, 'team_id'] = espn_team_id\n",
    "        choices.remove(match[0])  # remove that team as a possible choice\n",
    "\n",
    "# Need to do this first, otherwise the >80 match fails since it matches to Iowa St. ¯\\_(ツ)_/¯\n",
    "kenpom.loc[kenpom['Team'] == \"St. John's\", 'team_id'] = 2599\n",
    "choices.remove(\"St. John's (NY)\")\n",
    "\n",
    "scores = {}\n",
    "for index, row in kenpom[kenpom['team_id'].isna()].iterrows():\n",
    "    team = row['Team']\n",
    "    match = process.extractOne(team, choices)\n",
    "    espn_team_id = team_info[team_info['team_name'] == match[0]]['team_id'].values[0]\n",
    "    scores[team] = match, espn_team_id\n",
    "    if match[1] > 80:\n",
    "        kenpom.loc[index, 'team_id'] = espn_team_id\n",
    "        choices.remove(match[0])  # remove that team as a possible choice\n",
    "\n",
    "missing_kenpom = kenpom.loc[kenpom['team_id'].isna(), 'Team'].tolist()\n",
    "missing_espn = team_info.loc[team_info['team_name'].isin(choices)][['team_name', 'team_id']]\n",
    "\n",
    "print(\"Missing Kenpom Teams: {}\".format(missing_kenpom))\n",
    "print(\"Matching ESPN Teams:\\n {}\".format(missing_espn))"
   ]
  },
  {
   "cell_type": "code",
   "execution_count": 3,
   "metadata": {},
   "outputs": [
    {
     "data": {
      "text/plain": [
       "{'Michigan St.': (('Michigan State', 88), 127),\n",
       " 'Florida St.': (('Florida State', 87), 52),\n",
       " 'Iowa St.': (('Iowa State', 82), 66),\n",
       " 'LSU': (('Louisiana State', 60), 99),\n",
       " 'Mississippi St.': (('Mississippi State', 90), 344),\n",
       " 'Kansas St.': (('Kansas State', 86), 2306),\n",
       " \"Saint Mary's\": ((\"Saint Mary's (CA)\", 95), 2608),\n",
       " 'Utah St.': (('Utah State', 82), 328),\n",
       " 'VCU': (('Louisiana State', 30), 99),\n",
       " 'Ohio St.': (('Ohio State', 82), 194),\n",
       " 'UCF': (('Louisiana State', 30), 99),\n",
       " 'New Mexico St.': (('New Mexico State', 90), 166),\n",
       " 'Murray St.': (('Murray State', 86), 93),\n",
       " 'Arizona St.': (('Arizona State', 87), 9),\n",
       " 'Georgia St.': (('Georgia State', 87), 2247),\n",
       " 'North Dakota St.': (('North Dakota State', 91), 2449),\n",
       " 'Prairie View A&M': (('Prairie View', 95), 2504)}"
      ]
     },
     "execution_count": 3,
     "metadata": {},
     "output_type": "execute_result"
    }
   ],
   "source": [
    "scores"
   ]
  },
  {
   "cell_type": "code",
   "execution_count": 4,
   "metadata": {},
   "outputs": [],
   "source": [
    "# Need to manually fix the crappy ones\n",
    "kenpom.loc[kenpom['Team'] == 'LSU', 'team_id'] = 99\n",
    "kenpom.loc[kenpom['Team'] == 'VCU', 'team_id'] = 2670\n",
    "kenpom.loc[kenpom['Team'] == 'UCF', 'team_id'] = 2116\n",
    "\n",
    "merged = pd.merge(kenpom, team_info, how='left', on='team_id')\n",
    "\n",
    "for team in FIRST_FOUR_LOSERS:\n",
    "    merged = merged[merged['team_name'] != team]\n",
    "\n",
    "simple = merged[['team_region', 'Seed', 'team_name', 'team_id', 'AdjustEM', 'AdjustT']]"
   ]
  },
  {
   "cell_type": "code",
   "execution_count": 5,
   "metadata": {},
   "outputs": [
    {
     "data": {
      "text/html": [
       "<div>\n",
       "<style scoped>\n",
       "    .dataframe tbody tr th:only-of-type {\n",
       "        vertical-align: middle;\n",
       "    }\n",
       "\n",
       "    .dataframe tbody tr th {\n",
       "        vertical-align: top;\n",
       "    }\n",
       "\n",
       "    .dataframe thead th {\n",
       "        text-align: right;\n",
       "    }\n",
       "</style>\n",
       "<table border=\"1\" class=\"dataframe\">\n",
       "  <thead>\n",
       "    <tr style=\"text-align: right;\">\n",
       "      <th></th>\n",
       "      <th>team_region</th>\n",
       "      <th>Seed</th>\n",
       "      <th>team_name</th>\n",
       "      <th>team_id</th>\n",
       "      <th>AdjustEM</th>\n",
       "      <th>AdjustT</th>\n",
       "    </tr>\n",
       "  </thead>\n",
       "  <tbody>\n",
       "    <tr>\n",
       "      <th>0</th>\n",
       "      <td>South</td>\n",
       "      <td>1</td>\n",
       "      <td>Virginia</td>\n",
       "      <td>258.0</td>\n",
       "      <td>35.66</td>\n",
       "      <td>59.3</td>\n",
       "    </tr>\n",
       "    <tr>\n",
       "      <th>1</th>\n",
       "      <td>West</td>\n",
       "      <td>1</td>\n",
       "      <td>Gonzaga</td>\n",
       "      <td>2250.0</td>\n",
       "      <td>32.79</td>\n",
       "      <td>69.8</td>\n",
       "    </tr>\n",
       "    <tr>\n",
       "      <th>2</th>\n",
       "      <td>East</td>\n",
       "      <td>1</td>\n",
       "      <td>Duke</td>\n",
       "      <td>150.0</td>\n",
       "      <td>31.99</td>\n",
       "      <td>72.2</td>\n",
       "    </tr>\n",
       "    <tr>\n",
       "      <th>3</th>\n",
       "      <td>East</td>\n",
       "      <td>2</td>\n",
       "      <td>Michigan State</td>\n",
       "      <td>127.0</td>\n",
       "      <td>31.36</td>\n",
       "      <td>67.4</td>\n",
       "    </tr>\n",
       "    <tr>\n",
       "      <th>4</th>\n",
       "      <td>West</td>\n",
       "      <td>2</td>\n",
       "      <td>Michigan</td>\n",
       "      <td>130.0</td>\n",
       "      <td>29.44</td>\n",
       "      <td>64.4</td>\n",
       "    </tr>\n",
       "  </tbody>\n",
       "</table>\n",
       "</div>"
      ],
      "text/plain": [
       "  team_region  Seed       team_name  team_id  AdjustEM  AdjustT\n",
       "0       South     1        Virginia    258.0     35.66     59.3\n",
       "1        West     1         Gonzaga   2250.0     32.79     69.8\n",
       "2        East     1            Duke    150.0     31.99     72.2\n",
       "3        East     2  Michigan State    127.0     31.36     67.4\n",
       "4        West     2        Michigan    130.0     29.44     64.4"
      ]
     },
     "execution_count": 5,
     "metadata": {},
     "output_type": "execute_result"
    }
   ],
   "source": [
    "simple.head()"
   ]
  },
  {
   "cell_type": "code",
   "execution_count": 6,
   "metadata": {},
   "outputs": [
    {
     "data": {
      "text/plain": [
       "(64, 6)"
      ]
     },
     "execution_count": 6,
     "metadata": {},
     "output_type": "execute_result"
    }
   ],
   "source": [
    "simple.shape"
   ]
  },
  {
   "cell_type": "code",
   "execution_count": 7,
   "metadata": {},
   "outputs": [],
   "source": [
    "simple.to_csv(EXPORT_FILENAME, index=False)"
   ]
  },
  {
   "cell_type": "code",
   "execution_count": null,
   "metadata": {},
   "outputs": [],
   "source": []
  }
 ],
 "metadata": {
  "kernelspec": {
   "display_name": "Python 3",
   "language": "python",
   "name": "python3"
  },
  "language_info": {
   "codemirror_mode": {
    "name": "ipython",
    "version": 3
   },
   "file_extension": ".py",
   "mimetype": "text/x-python",
   "name": "python",
   "nbconvert_exporter": "python",
   "pygments_lexer": "ipython3",
   "version": "3.6.5"
  }
 },
 "nbformat": 4,
 "nbformat_minor": 2
}
