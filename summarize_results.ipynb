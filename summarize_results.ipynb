{
 "cells": [
  {
   "cell_type": "code",
   "execution_count": 10,
   "metadata": {
    "collapsed": true
   },
   "outputs": [],
   "source": [
    "import pandas as pd\n",
    "import seaborn as sns\n",
    "import matplotlib.pyplot as plt\n",
    "import feather\n",
    "from bracket_functions import save_brackets\n",
    "%matplotlib inline"
   ]
  },
  {
   "cell_type": "code",
   "execution_count": 5,
   "metadata": {
    "collapsed": true
   },
   "outputs": [],
   "source": [
    "df_scores = feather.read_dataframe('scores_2018.feather')"
   ]
  },
  {
   "cell_type": "code",
   "execution_count": 8,
   "metadata": {
    "collapsed": false
   },
   "outputs": [
    {
     "data": {
      "text/html": [
       "<div>\n",
       "<style scoped>\n",
       "    .dataframe tbody tr th:only-of-type {\n",
       "        vertical-align: middle;\n",
       "    }\n",
       "\n",
       "    .dataframe tbody tr th {\n",
       "        vertical-align: top;\n",
       "    }\n",
       "\n",
       "    .dataframe thead th {\n",
       "        text-align: right;\n",
       "    }\n",
       "</style>\n",
       "<table border=\"1\" class=\"dataframe\">\n",
       "  <thead>\n",
       "    <tr style=\"text-align: right;\">\n",
       "      <th></th>\n",
       "      <th>index</th>\n",
       "      <th>Name</th>\n",
       "      <th>Score</th>\n",
       "      <th>16 Seeds</th>\n",
       "      <th>16 Total</th>\n",
       "      <th>UMBC</th>\n",
       "      <th>Potential Score</th>\n",
       "      <th>32</th>\n",
       "      <th>16</th>\n",
       "      <th>8</th>\n",
       "      <th>4</th>\n",
       "      <th>2</th>\n",
       "      <th>1</th>\n",
       "    </tr>\n",
       "  </thead>\n",
       "  <tbody>\n",
       "    <tr>\n",
       "      <th>0</th>\n",
       "      <td>0</td>\n",
       "      <td>bracket860996</td>\n",
       "      <td>590</td>\n",
       "      <td>0</td>\n",
       "      <td>0</td>\n",
       "      <td>0</td>\n",
       "      <td>590</td>\n",
       "      <td>21</td>\n",
       "      <td>3</td>\n",
       "      <td>2</td>\n",
       "      <td>1</td>\n",
       "      <td>1</td>\n",
       "      <td>0</td>\n",
       "    </tr>\n",
       "    <tr>\n",
       "      <th>1</th>\n",
       "      <td>1</td>\n",
       "      <td>bracket35002</td>\n",
       "      <td>510</td>\n",
       "      <td>0</td>\n",
       "      <td>0</td>\n",
       "      <td>0</td>\n",
       "      <td>510</td>\n",
       "      <td>21</td>\n",
       "      <td>7</td>\n",
       "      <td>2</td>\n",
       "      <td>1</td>\n",
       "      <td>0</td>\n",
       "      <td>0</td>\n",
       "    </tr>\n",
       "    <tr>\n",
       "      <th>2</th>\n",
       "      <td>2</td>\n",
       "      <td>bracket860991</td>\n",
       "      <td>280</td>\n",
       "      <td>0</td>\n",
       "      <td>0</td>\n",
       "      <td>0</td>\n",
       "      <td>280</td>\n",
       "      <td>20</td>\n",
       "      <td>4</td>\n",
       "      <td>0</td>\n",
       "      <td>0</td>\n",
       "      <td>0</td>\n",
       "      <td>0</td>\n",
       "    </tr>\n",
       "    <tr>\n",
       "      <th>3</th>\n",
       "      <td>3</td>\n",
       "      <td>bracket687984</td>\n",
       "      <td>340</td>\n",
       "      <td>1</td>\n",
       "      <td>10</td>\n",
       "      <td>0</td>\n",
       "      <td>340</td>\n",
       "      <td>20</td>\n",
       "      <td>5</td>\n",
       "      <td>1</td>\n",
       "      <td>0</td>\n",
       "      <td>0</td>\n",
       "      <td>0</td>\n",
       "    </tr>\n",
       "    <tr>\n",
       "      <th>4</th>\n",
       "      <td>4</td>\n",
       "      <td>bracket864860</td>\n",
       "      <td>1070</td>\n",
       "      <td>1</td>\n",
       "      <td>10</td>\n",
       "      <td>0</td>\n",
       "      <td>1070</td>\n",
       "      <td>21</td>\n",
       "      <td>9</td>\n",
       "      <td>3</td>\n",
       "      <td>1</td>\n",
       "      <td>1</td>\n",
       "      <td>1</td>\n",
       "    </tr>\n",
       "  </tbody>\n",
       "</table>\n",
       "</div>"
      ],
      "text/plain": [
       "  index           Name  Score  16 Seeds  16 Total  UMBC  Potential Score  32  \\\n",
       "0     0  bracket860996    590         0         0     0              590  21   \n",
       "1     1   bracket35002    510         0         0     0              510  21   \n",
       "2     2  bracket860991    280         0         0     0              280  20   \n",
       "3     3  bracket687984    340         1        10     0              340  20   \n",
       "4     4  bracket864860   1070         1        10     0             1070  21   \n",
       "\n",
       "   16  8  4  2  1  \n",
       "0   3  2  1  1  0  \n",
       "1   7  2  1  0  0  \n",
       "2   4  0  0  0  0  \n",
       "3   5  1  0  0  0  \n",
       "4   9  3  1  1  1  "
      ]
     },
     "execution_count": 8,
     "metadata": {},
     "output_type": "execute_result"
    }
   ],
   "source": [
    "df_scores.head()"
   ]
  },
  {
   "cell_type": "markdown",
   "metadata": {},
   "source": [
    "## Print Summaries"
   ]
  },
  {
   "cell_type": "code",
   "execution_count": null,
   "metadata": {
    "collapsed": false
   },
   "outputs": [],
   "source": [
    "print df_scores[df_scores['score']==df_scores['score'].max()]\n",
    "print df_scores[df_scores['16_seeds']==df_scores['16_seeds'].max()]\n",
    "print df_scores[df_scores['16_total']==df_scores['16_total'].max()]\n",
    "print df_scores[df_scores['umbc']==df_scores['umbc'].max()]\n",
    "# print df_scores[df_scores['Potential Score']==df_scores['Potential Score'].max()]\n",
    "print df_scores[df_scores['32']==df_scores['32'].max()]\n",
    "# print df_scores[df_scores['16']==df_scores['16'].max()]\n",
    "# print df_scores[df_scores['8']==df_scores['8'].max()]\n",
    "# print df_scores[df_scores['4']==df_scores['4'].max()]\n",
    "# print sum(df_scores['2']==df_scores['2'].max())\n",
    "# print sum(df_scores['1']==df_scores['1'].max())\n",
    "print df_scores.shape"
   ]
  },
  {
   "cell_type": "code",
   "execution_count": null,
   "metadata": {
    "collapsed": true
   },
   "outputs": [],
   "source": [
    "max_scores = df_scores[df_scores['Score']==df_scores['Score'].max()]\n",
    "bracket_names_top = max_scores['Name'].tolist()\n",
    "save_brackets('top', bracket_names_top)\n",
    "\n",
    "sixteen_seeds = df_scores[df_scores['16 Total']==df_scores['16 Total'].max()]\n",
    "bracket_names_16 = sixteen_seeds['Name'].tolist()\n",
    "save_brackets('16_seed', bracket_names_16)\n",
    "\n",
    "first_round = df_scores[df_scores['32']==df_scores['32'].max()]\n",
    "bracket_names_first = first_round['Name'].tolist()\n",
    "save_brackets('first_round', bracket_names_first)"
   ]
  },
  {
   "cell_type": "markdown",
   "metadata": {},
   "source": [
    "## ESPN Brackets"
   ]
  },
  {
   "cell_type": "code",
   "execution_count": 11,
   "metadata": {
    "collapsed": true
   },
   "outputs": [],
   "source": [
    "espn_brackets = feather.read_dataframe('espn_brackets_2018.feather')\n",
    "espn_brackets = espn_brackets[espn_brackets['p']!=0]"
   ]
  },
  {
   "cell_type": "markdown",
   "metadata": {},
   "source": [
    "## Plots"
   ]
  },
  {
   "cell_type": "markdown",
   "metadata": {},
   "source": [
    "### Full histogram"
   ]
  },
  {
   "cell_type": "code",
   "execution_count": 12,
   "metadata": {
    "collapsed": false
   },
   "outputs": [
    {
     "data": {
      "image/png": "[encoded data removed]",
      "text/plain": [
       "<matplotlib.figure.Figure at 0x17c53bf50>"
      ]
     },
     "metadata": {},
     "output_type": "display_data"
    }
   ],
   "source": [
    "plt.clf()\n",
    "sns.distplot(my_brackets.Score)\n",
    "sns.distplot(espn_brackets.p)\n",
    "plt.xticks(range(0, 1670, 250), fontsize=8)\n",
    "plt.xlim(0, 1800)\n",
    "plt.legend([\"Simulated\", \"ESPN\"])\n",
    "plt.xlabel('Score')\n",
    "plt.show()\n",
    "# plt.savefig('full_histogram.jpg')"
   ]
  },
  {
   "cell_type": "markdown",
   "metadata": {},
   "source": [
    "### Zoomed In"
   ]
  },
  {
   "cell_type": "code",
   "execution_count": 13,
   "metadata": {
    "collapsed": false
   },
   "outputs": [
    {
     "data": {
      "image/png": "[encoded data removed]",
      "text/plain": [
       "<matplotlib.figure.Figure at 0x109f6f1d0>"
      ]
     },
     "metadata": {},
     "output_type": "display_data"
    }
   ],
   "source": [
    "plt.clf()\n",
    "sns.distplot(my_brackets.Score)\n",
    "sns.distplot(espn_brackets.p)\n",
    "plt.xticks(range(0, 1700, 25), fontsize=8)\n",
    "plt.legend([\"Simulated\", \"ESPN\"])\n",
    "plt.xlim(1450, 1700)\n",
    "plt.ylim(0, 0.00002)\n",
    "plt.xlabel('Score')\n",
    "plt.show()\n",
    "# plt.savefig('top_histogram.jpg')"
   ]
  },
  {
   "cell_type": "markdown",
   "metadata": {},
   "source": [
    "### Full CDF"
   ]
  },
  {
   "cell_type": "code",
   "execution_count": null,
   "metadata": {
    "collapsed": true
   },
   "outputs": [],
   "source": [
    "plt.clf()\n",
    "sns.distplot(my_brackets.Score, hist_kws={'cumulative': True}, kde_kws={'cumulative': True})\n",
    "sns.distplot(espn_brackets.p, hist_kws={'cumulative': True}, kde_kws={'cumulative': True})\n",
    "plt.xticks(range(0, 1670, 250), fontsize=8)\n",
    "plt.ylim(0, 1)\n",
    "plt.xlim(0, 1800)\n",
    "plt.xlabel('Score')\n",
    "plt.legend([\"Simulated\", \"ESPN\"], loc=2)\n",
    "plt.show()\n",
    "# plt.savefig('full_cdf.jpg')"
   ]
  }
 ],
 "metadata": {
  "kernelspec": {
   "display_name": "Python 2",
   "language": "python",
   "name": "python2"
  },
  "language_info": {
   "codemirror_mode": {
    "name": "ipython",
    "version": 2
   },
   "file_extension": ".py",
   "mimetype": "text/x-python",
   "name": "python",
   "nbconvert_exporter": "python",
   "pygments_lexer": "ipython2",
   "version": "2.7.12"
  },
  "toc": {
   "nav_menu": {},
   "number_sections": true,
   "sideBar": true,
   "skip_h1_title": false,
   "toc_cell": false,
   "toc_position": {},
   "toc_section_display": "block",
   "toc_window_display": false
  },
  "varInspector": {
   "cols": {
    "lenName": 16,
    "lenType": 16,
    "lenVar": 40
   },
   "kernels_config": {
    "python": {
     "delete_cmd_postfix": "",
     "delete_cmd_prefix": "del ",
     "library": "var_list.py",
     "varRefreshCmd": "print(var_dic_list())"
    },
    "r": {
     "delete_cmd_postfix": ") ",
     "delete_cmd_prefix": "rm(",
     "library": "var_list.r",
     "varRefreshCmd": "cat(var_dic_list()) "
    }
   },
   "types_to_exclude": [
    "module",
    "function",
    "builtin_function_or_method",
    "instance",
    "_Feature"
   ],
   "window_display": false
  }
 },
 "nbformat": 4,
 "nbformat_minor": 0
}
